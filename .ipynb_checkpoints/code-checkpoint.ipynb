{
 "cells": [
  {
   "cell_type": "code",
   "execution_count": 1,
   "id": "modern-missouri",
   "metadata": {},
   "outputs": [],
   "source": [
    "import os\n",
    "import numpy as np"
   ]
  },
  {
   "cell_type": "markdown",
   "id": "restricted-prompt",
   "metadata": {},
   "source": [
    "## Define a function to execute linux shell command"
   ]
  },
  {
   "cell_type": "code",
   "execution_count": 2,
   "id": "grand-collar",
   "metadata": {},
   "outputs": [],
   "source": [
    "def command(command_str):\n",
    "    os.system(command_str)"
   ]
  },
  {
   "cell_type": "markdown",
   "id": "sixth-plaintiff",
   "metadata": {},
   "source": [
    "## Define functions to calculate word_frequency for all the files under a certain directory"
   ]
  },
  {
   "cell_type": "code",
   "execution_count": 3,
   "id": "pressed-frame",
   "metadata": {},
   "outputs": [],
   "source": [
    "def cal_frequency(dir_name, save_dir): #this function will be called in the exe_shell function below\n",
    "    dirs = os.listdir(dir_name) # get a list of all the file names under this directory\n",
    "    for file_name in dirs:\n",
    "        cur_path = os.path.join(dir_name, file_name)\n",
    "        file_pre = file_name.split('.')\n",
    "        file_pre = file_pre[:-1]\n",
    "        output_file_name = '.'.join(file_pre)\n",
    "        output_file_name = output_file_name + '.wfreq'\n",
    "        output_path = os.path.join(save_dir, output_file_name)\n",
    "        command_str = 'code/CMU-Cam_Toolkit_v2/bin/text2wfreq < ' + cur_path + ' > ' + output_path\n",
    "        command(command_str)"
   ]
  },
  {
   "cell_type": "code",
   "execution_count": 4,
   "id": "micro-milwaukee",
   "metadata": {},
   "outputs": [],
   "source": [
    "def exe_shell(root_dir, from_dir_name, to_dir_name=None):\n",
    "    if to_dir_name is None:\n",
    "        to_dir_name = 'wfreq_' + from_dir_name\n",
    "    dir_name = os.path.join(root_dir, from_dir_name)\n",
    "    save_dir = os.path.join(root_dir, to_dir_name)\n",
    "    if not os.path.exists(save_dir):\n",
    "        os.makedirs(save_dir)\n",
    "    cal_frequency(dir_name=dir_name, save_dir=save_dir)"
   ]
  },
  {
   "cell_type": "markdown",
   "id": "lovely-coordination",
   "metadata": {},
   "source": [
    "## Create the training sets containing economist and onion, for the binomial NB part "
   ]
  },
  {
   "cell_type": "code",
   "execution_count": 5,
   "id": "turned-findings",
   "metadata": {},
   "outputs": [],
   "source": [
    "home_dir = os.getcwd() # get the curent directory"
   ]
  },
  {
   "cell_type": "code",
   "execution_count": 102,
   "id": "amateur-paper",
   "metadata": {},
   "outputs": [],
   "source": [
    "class_names = ['onion', 'economist_noclass']\n",
    "root_dir = home_dir\n",
    "to_names = ['wfreq_onion', 'wfreq_economist']\n",
    "for idx, class_name in enumerate(class_names):\n",
    "    exe_shell(root_dir=root_dir, from_dir_name=class_name, to_dir_name=to_names[idx])"
   ]
  },
  {
   "cell_type": "markdown",
   "id": "labeled-jumping",
   "metadata": {},
   "source": [
    "## Create the training sets containing regions, for the multinomial NB part "
   ]
  },
  {
   "cell_type": "code",
   "execution_count": 6,
   "id": "committed-future",
   "metadata": {},
   "outputs": [],
   "source": [
    "class_names = ['africa', 'asia', 'britain', 'europe', 'international', 'latin_america', 'north_america']"
   ]
  },
  {
   "cell_type": "code",
   "execution_count": 32,
   "id": "textile-response",
   "metadata": {},
   "outputs": [],
   "source": [
    "root_dir = os.path.join(home_dir, 'economist')\n",
    "for class_name in class_names:\n",
    "    exe_shell(root_dir=root_dir, from_dir_name=class_name, to_dir_name=None)"
   ]
  },
  {
   "cell_type": "markdown",
   "id": "annoying-threat",
   "metadata": {},
   "source": [
    "## Map all the words to integers one to one"
   ]
  },
  {
   "cell_type": "code",
   "execution_count": 7,
   "id": "modified-mills",
   "metadata": {},
   "outputs": [],
   "source": [
    "def make_lexicon(text_path, mode):\n",
    "    from nltk.corpus import stopwords\n",
    "    sw = set(stopwords.words('english'))\n",
    "    additional_sw = {'mr', 'would', 'still', 'one', 'two', 'three', 'four', 'five', 'six', 'seven', 'eight', 'nine',\n",
    "                     'ten', 'may', 'much', 'many', 'ms', 'mrs', 'new', 'could', 'says', 'also','image'}\n",
    "#     if mode == \"Eco_region\":\n",
    "#         additional_sw = additional_sw.union({'government','country','countries'})\n",
    "    sw = sw.union(additional_sw)\n",
    "    # print(sw)\n",
    "    lexicon = dict() # word to number \n",
    "    reversed_lexicon = dict() # number to word\n",
    "    with open(text_path, 'r', encoding='ISO-8859-1')as fr: \n",
    "        lines = fr.readlines()\n",
    "        cnt = 0\n",
    "        for idx, line in enumerate(lines):\n",
    "            word, freq = line.strip().split()\n",
    "            freq = int(freq)\n",
    "            if word.lower() in sw or freq <= 2:  # if the word is a stopword\n",
    "                continue\n",
    "            lexicon[word] = cnt\n",
    "            reversed_lexicon[cnt] = word\n",
    "            cnt += 1\n",
    "    return lexicon, reversed_lexicon"
   ]
  },
  {
   "cell_type": "markdown",
   "id": "adverse-providence",
   "metadata": {},
   "source": [
    "## Given a certain class, create the feature vectors and the labels"
   ]
  },
  {
   "cell_type": "code",
   "execution_count": 8,
   "id": "criminal-diversity",
   "metadata": {},
   "outputs": [],
   "source": [
    "def read_data(dir_path, lexicon, label):\n",
    "    dirs = os.listdir(dir_path)\n",
    "    X = []\n",
    "    y = []\n",
    "    for file_name in dirs:\n",
    "        if file_name == '.wfreq':\n",
    "            continue\n",
    "        file_path = os.path.join(dir_path, file_name)\n",
    "        feature = [0 for i in range(len(lexicon))]\n",
    "        with open(file_path, 'r', encoding='ISO-8859-1') as fr:\n",
    "            lines = fr.readlines()\n",
    "            for line in lines:\n",
    "                try:\n",
    "                    word, freq = line.strip().split()\n",
    "                except:\n",
    "                    print(file_path, line)\n",
    "                    continue\n",
    "                freq = int(freq)\n",
    "                if word not in lexicon:\n",
    "                    continue\n",
    "                idx = lexicon[word]\n",
    "                feature[idx] += freq\n",
    "        X.append(feature)\n",
    "        y.append(label)\n",
    "    return X, y"
   ]
  },
  {
   "cell_type": "markdown",
   "id": "quiet-render",
   "metadata": {},
   "source": [
    "## Create X,y for Onion vs Economists"
   ]
  },
  {
   "cell_type": "code",
   "execution_count": 9,
   "id": "supreme-tournament",
   "metadata": {},
   "outputs": [],
   "source": [
    "def make_dataset_OVE(root_dir, text_path, mode):\n",
    "    lexicon, reversed_lexicon = make_lexicon(text_path=text_path, mode = mode)\n",
    "    X_onion, y_onion = read_data(dir_path=os.path.join(root_dir, 'wfreq_onion'), lexicon=lexicon, label=0)\n",
    "    X_eco, y_eco = read_data(dir_path=os.path.join(root_dir, 'wfreq_economist'), lexicon=lexicon, label=1)\n",
    "    X = X_onion + X_eco\n",
    "    y = y_onion + y_eco\n",
    "    X = np.array(X)\n",
    "    y = np.array(y)\n",
    "    # do shuffle\n",
    "    r = np.random.permutation(y.shape[0]) #shuffle\n",
    "    X = X[r, :]\n",
    "    y = y[r]\n",
    "    print(X.shape, y.shape)\n",
    "    class_name = ['onion', 'economist']\n",
    "    return X, y, reversed_lexicon, class_name"
   ]
  },
  {
   "cell_type": "markdown",
   "id": "requested-frank",
   "metadata": {},
   "source": [
    "## Create X,y for economists regions"
   ]
  },
  {
   "cell_type": "code",
   "execution_count": 10,
   "id": "chronic-spank",
   "metadata": {},
   "outputs": [],
   "source": [
    "def make_dataset_Eco_region(root_dir, text_path, mode):\n",
    "    lexicon, reversed_lexicon = make_lexicon(text_path=text_path, mode = mode)\n",
    "    X, y = [], []\n",
    "    class_name = ['africa', 'asia', 'britain', 'europe', 'international', 'latin_america', 'north_america']\n",
    "    for label, name in enumerate(class_name):\n",
    "        name = 'wfreq_' + name\n",
    "        cur_X, cur_y = read_data(dir_path=os.path.join(root_dir, name), lexicon=lexicon, label=label)\n",
    "        X.append(cur_X)\n",
    "        y.append(cur_y)\n",
    "\n",
    "    X = [element for lis in X for element in lis]\n",
    "    y = [element for lis in y for element in lis]\n",
    "    X = np.array(X)\n",
    "    y = np.array(y)\n",
    "    # do shuffle\n",
    "    np.random.seed(0)\n",
    "    r = np.random.permutation(y.shape[0])\n",
    "    X = X[r, :]\n",
    "    y = y[r]\n",
    "    print(X.shape, y.shape)\n",
    "    return X, y, reversed_lexicon, class_name"
   ]
  },
  {
   "cell_type": "markdown",
   "id": "revolutionary-bankruptcy",
   "metadata": {},
   "source": [
    "## Test our model"
   ]
  },
  {
   "cell_type": "code",
   "execution_count": 11,
   "id": "sustainable-sigma",
   "metadata": {},
   "outputs": [],
   "source": [
    "def test_NB(X, y, reversed_lexicon, class_name, mode):\n",
    "    from myMultinomialNB import MultinomialNB\n",
    "    import matplotlib.pyplot as plt\n",
    "    from sklearn.metrics import plot_confusion_matrix\n",
    "    from sklearn.model_selection import train_test_split\n",
    "    from sklearn.model_selection import cross_val_score\n",
    "    from sklearn.model_selection import cross_validate\n",
    "    from sklearn.metrics import accuracy_score\n",
    "    \n",
    "    X_train, X_test, y_train, y_test = train_test_split(X, y, test_size=0.1, shuffle=True, random_state=37)\n",
    "    clf = MultinomialNB(alpha=1)\n",
    "    \n",
    "    print(\"Start to fit on the whole dataset\")\n",
    "    most_weighted_words, least_weighted_words = clf.fit(X, y)\n",
    "    print(\"Fit finished on the whole dataset\")\n",
    "    \n",
    "    print(\"The most 5 weighted words in each classes are shown below\")\n",
    "    for i in range(len(class_name)):\n",
    "        print(class_name[i] + ': ', end=\"\")\n",
    "        for j in most_weighted_words[i]:\n",
    "            print(reversed_lexicon[j], end=\" \")\n",
    "        print()\n",
    "    \n",
    "    print(\"The least 5 weighted words in each classes are shown below\")\n",
    "    for i in range(len(class_name)):\n",
    "        print(class_name[i] + ': ', end=\"\")\n",
    "        for j in least_weighted_words[i]:\n",
    "            print(reversed_lexicon[j], end=\" \")\n",
    "        print()\n",
    "    print(\"-------------------------------------\")\n",
    "    \n",
    "    print(\"Start to fit on training set\")\n",
    "    clf.fit(X_train, y_train)\n",
    "    print(\"Fit finished on training set\")\n",
    "    \n",
    "    print(\"Plot the confusion matrix on test set\")\n",
    "    plot_confusion_matrix(clf, X_test, y_test)\n",
    "    plt.show()\n",
    "    print(\"-------------------------------------\")\n",
    "    \n",
    "    print(\"Start to do 10-fold cross validation\")\n",
    "    if mode == \"OVE\":\n",
    "        print(cross_validate(clf, X_train, y_train, cv=10,scoring=('accuracy','recall', 'precision', 'f1')))\n",
    "    else:\n",
    "        print(cross_validate(clf, X_train, y_train, cv=10,\n",
    "                         scoring=('accuracy', 'recall_macro', 'precision_macro', 'f1_macro')))\n",
    "    print(\"Finish doing 10-fold cross validation\")\n",
    "    "
   ]
  },
  {
   "cell_type": "code",
   "execution_count": 12,
   "id": "durable-strip",
   "metadata": {},
   "outputs": [],
   "source": [
    "def OVE():\n",
    "    root_dir = os.path.join(home_dir,'')\n",
    "    text_path = './full_freq.wfreq'\n",
    "    X, y, reversed_lexicon, class_name = make_dataset_OVE(root_dir, text_path, \"OVE\")\n",
    "    test_NB(X, y, reversed_lexicon, class_name, \"OVE\")"
   ]
  },
  {
   "cell_type": "code",
   "execution_count": 13,
   "id": "numerous-disorder",
   "metadata": {},
   "outputs": [],
   "source": [
    "def Eco_region():\n",
    "    root_dir = os.path.join(home_dir,'economist')\n",
    "    text_path = './economist.wfreq'\n",
    "    X, y, reversed_lexicon, class_name = make_dataset_Eco_region(root_dir, text_path, \"Eco_region\")\n",
    "    test_NB(X, y, reversed_lexicon, class_name, \"Eco_region\")"
   ]
  },
  {
   "cell_type": "code",
   "execution_count": 14,
   "id": "american-robert",
   "metadata": {},
   "outputs": [
    {
     "name": "stdout",
     "output_type": "stream",
     "text": [
      "(668, 16517) (668,)\n",
      "Start to fit on the whole dataset\n",
      "Fit finished on the whole dataset\n",
      "The most 5 weighted words in each classes are shown below\n",
      "onion: said \"I said. like time \n",
      "economist: government people even opposition country \n",
      "The least 5 weighted words in each classes are shown below\n",
      "onion: prime-ministerial Erdogan's injections Abrahams, halved \n",
      "economist: 9 R Klein-Moscone wild-card purple \n",
      "-------------------------------------\n",
      "Start to fit on training set\n",
      "Fit finished on training set\n",
      "Plot the confusion matrix on test set\n"
     ]
    },
    {
     "data": {
      "image/png": "[encoded data removed]",
      "text/plain": [
       "<Figure size 432x288 with 2 Axes>"
      ]
     },
     "metadata": {
      "needs_background": "light"
     },
     "output_type": "display_data"
    },
    {
     "name": "stdout",
     "output_type": "stream",
     "text": [
      "-------------------------------------\n",
      "Start to do 10-fold cross validation\n",
      "{'fit_time': array([7.46317101, 7.72686529, 8.5873158 , 7.75839686, 7.48762512,\n",
      "       7.16157413, 7.56040502, 8.19699407, 8.90411019, 8.15468717]), 'score_time': array([1.74647093, 2.04797482, 1.79033399, 1.78093696, 1.69261789,\n",
      "       1.74056506, 1.805053  , 1.8370018 , 1.75437808, 1.87307   ]), 'test_accuracy': array([0.95081967, 1.        , 0.98333333, 0.96666667, 1.        ,\n",
      "       0.96666667, 0.98333333, 1.        , 1.        , 1.        ]), 'test_recall': array([0.93181818, 1.        , 1.        , 0.95454545, 1.        ,\n",
      "       0.95454545, 1.        , 1.        , 1.        , 1.        ]), 'test_precision': array([1.        , 1.        , 0.97777778, 1.        , 1.        ,\n",
      "       1.        , 0.97777778, 1.        , 1.        , 1.        ]), 'test_f1': array([0.96470588, 1.        , 0.98876404, 0.97674419, 1.        ,\n",
      "       0.97674419, 0.98876404, 1.        , 1.        , 1.        ])}\n",
      "Finish doing 10-fold cross validation\n"
     ]
    }
   ],
   "source": [
    "OVE()"
   ]
  },
  {
   "cell_type": "code",
   "execution_count": 15,
   "id": "marine-preliminary",
   "metadata": {},
   "outputs": [
    {
     "name": "stdout",
     "output_type": "stream",
     "text": [
      "(483, 12904) (483,)\n",
      "Start to fit on the whole dataset\n",
      "Fit finished on the whole dataset\n",
      "The most 5 weighted words in each classes are shown below\n",
      "africa: government opposition country Iraqi South \n",
      "asia: North government China country South \n",
      "britain: British Gordon energy recent countries \n",
      "europe: prime government opposition EU economy \n",
      "international: countries UN country world Russia \n",
      "latin_america: government opposition economy foreign year \n",
      "north_america: health Obama people Clinton illegal \n",
      "The least 5 weighted words in each classes are shown below\n",
      "africa: & 1 2 3 stated \n",
      "asia: & 2 3 stated Erdogan's \n",
      "britain: 1 2 state, state. stated \n",
      "europe: & stated prime-ministerial injections Abrahams, \n",
      "international: 4 prime-ministerial Erdogan's Abrahams, regularly \n",
      "latin_america: 1 2 3 4 states \n",
      "north_america: 1 2 4 stated prime-ministerial \n",
      "-------------------------------------\n",
      "Start to fit on training set\n",
      "Fit finished on training set\n",
      "Plot the confusion matrix on test set\n"
     ]
    },
    {
     "data": {
      "image/png": "[encoded data removed]",
      "text/plain": [
       "<Figure size 432x288 with 2 Axes>"
      ]
     },
     "metadata": {
      "needs_background": "light"
     },
     "output_type": "display_data"
    },
    {
     "name": "stdout",
     "output_type": "stream",
     "text": [
      "-------------------------------------\n",
      "Start to do 10-fold cross validation\n"
     ]
    },
    {
     "name": "stderr",
     "output_type": "stream",
     "text": [
      "/Library/Frameworks/Python.framework/Versions/3.9/lib/python3.9/site-packages/sklearn/metrics/_classification.py:1245: UndefinedMetricWarning: Precision is ill-defined and being set to 0.0 in labels with no predicted samples. Use `zero_division` parameter to control this behavior.\n",
      "  _warn_prf(average, modifier, msg_start, len(result))\n",
      "/Library/Frameworks/Python.framework/Versions/3.9/lib/python3.9/site-packages/sklearn/metrics/_classification.py:1245: UndefinedMetricWarning: Precision is ill-defined and being set to 0.0 in labels with no predicted samples. Use `zero_division` parameter to control this behavior.\n",
      "  _warn_prf(average, modifier, msg_start, len(result))\n",
      "/Library/Frameworks/Python.framework/Versions/3.9/lib/python3.9/site-packages/sklearn/metrics/_classification.py:1245: UndefinedMetricWarning: Precision is ill-defined and being set to 0.0 in labels with no predicted samples. Use `zero_division` parameter to control this behavior.\n",
      "  _warn_prf(average, modifier, msg_start, len(result))\n",
      "/Library/Frameworks/Python.framework/Versions/3.9/lib/python3.9/site-packages/sklearn/metrics/_classification.py:1245: UndefinedMetricWarning: Precision is ill-defined and being set to 0.0 in labels with no predicted samples. Use `zero_division` parameter to control this behavior.\n",
      "  _warn_prf(average, modifier, msg_start, len(result))\n",
      "/Library/Frameworks/Python.framework/Versions/3.9/lib/python3.9/site-packages/sklearn/metrics/_classification.py:1245: UndefinedMetricWarning: Precision is ill-defined and being set to 0.0 in labels with no predicted samples. Use `zero_division` parameter to control this behavior.\n",
      "  _warn_prf(average, modifier, msg_start, len(result))\n",
      "/Library/Frameworks/Python.framework/Versions/3.9/lib/python3.9/site-packages/sklearn/metrics/_classification.py:1245: UndefinedMetricWarning: Precision is ill-defined and being set to 0.0 in labels with no predicted samples. Use `zero_division` parameter to control this behavior.\n",
      "  _warn_prf(average, modifier, msg_start, len(result))\n",
      "/Library/Frameworks/Python.framework/Versions/3.9/lib/python3.9/site-packages/sklearn/metrics/_classification.py:1245: UndefinedMetricWarning: Precision is ill-defined and being set to 0.0 in labels with no predicted samples. Use `zero_division` parameter to control this behavior.\n",
      "  _warn_prf(average, modifier, msg_start, len(result))\n",
      "/Library/Frameworks/Python.framework/Versions/3.9/lib/python3.9/site-packages/sklearn/metrics/_classification.py:1245: UndefinedMetricWarning: Precision is ill-defined and being set to 0.0 in labels with no predicted samples. Use `zero_division` parameter to control this behavior.\n",
      "  _warn_prf(average, modifier, msg_start, len(result))\n"
     ]
    },
    {
     "name": "stdout",
     "output_type": "stream",
     "text": [
      "{'fit_time': array([4.09795904, 4.63085985, 4.50530672, 4.67111087, 4.22631407,\n",
      "       4.37587905, 4.49406385, 4.75858402, 4.46966386, 4.49245214]), 'score_time': array([3.54730296, 3.74562025, 3.53861403, 3.58202386, 3.16353488,\n",
      "       3.6914618 , 3.4553442 , 3.59094405, 3.50694132, 3.47755408]), 'test_accuracy': array([0.77272727, 0.84090909, 0.81818182, 0.81818182, 0.8372093 ,\n",
      "       0.81395349, 0.88372093, 0.74418605, 0.81395349, 0.74418605]), 'test_recall_macro': array([0.69880952, 0.76825397, 0.72721088, 0.78514739, 0.70793651,\n",
      "       0.75714286, 0.78095238, 0.60555556, 0.72482993, 0.6781746 ]), 'test_precision_macro': array([0.68027211, 0.74203297, 0.76530612, 0.79931973, 0.76358364,\n",
      "       0.74285714, 0.7973138 , 0.57171202, 0.74165121, 0.68594104]), 'test_f1_macro': array([0.66778222, 0.74130377, 0.72860984, 0.77390229, 0.70757273,\n",
      "       0.72902494, 0.77832103, 0.5741688 , 0.72075427, 0.64505495])}\n",
      "Finish doing 10-fold cross validation\n"
     ]
    },
    {
     "name": "stderr",
     "output_type": "stream",
     "text": [
      "/Library/Frameworks/Python.framework/Versions/3.9/lib/python3.9/site-packages/sklearn/metrics/_classification.py:1245: UndefinedMetricWarning: Precision is ill-defined and being set to 0.0 in labels with no predicted samples. Use `zero_division` parameter to control this behavior.\n",
      "  _warn_prf(average, modifier, msg_start, len(result))\n"
     ]
    }
   ],
   "source": [
    "Eco_region()"
   ]
  },
  {
   "cell_type": "markdown",
   "id": "classical-lightning",
   "metadata": {},
   "source": [
    "## I am positively surprised by the preformance of onion_vs_economists. The accuracy is as high as nearly 1.0, and there seems to be no overfitting problems. The good performance might be explained by the very different styles of the two magazines. As we can see, the top five words from the Onion are \" I, said, like, time, image\", which sounds subjective and casual, while the five words from the Economists \"government people even opposition country\" are moreobjective and formal. The contraction between the two classes are obvious, so the classification works fine.\n",
    "## However, the different_regions test performed not as well as the binomial one. This can be partially explained by the many intersections in the frequent words, such as government, country,  countries. I do think some of the words represent the regions well. For example, \"China, government\" represents Asia pretty well, and \"Obama, Clinton\" represents North America well. The intersections \"government, country,  countries, north\" don't represent the regions well. Note that international is not in paralelle to other regions. If we put the intersections into the lexion black list, then the international class will be missed almost everytime. Therefore, maybe, if we can distinguish international from all other regions using the binomial classification first, and then classify different regions, the overall performance will be better. "
   ]
  },
  {
   "cell_type": "code",
   "execution_count": null,
   "id": "illegal-closing",
   "metadata": {},
   "outputs": [],
   "source": []
  }
 ],
 "metadata": {
  "kernelspec": {
   "display_name": "Python 3",
   "language": "python",
   "name": "python3"
  },
  "language_info": {
   "codemirror_mode": {
    "name": "ipython",
    "version": 3
   },
   "file_extension": ".py",
   "mimetype": "text/x-python",
   "name": "python",
   "nbconvert_exporter": "python",
   "pygments_lexer": "ipython3",
   "version": "3.9.1"
  }
 },
 "nbformat": 4,
 "nbformat_minor": 5
}
